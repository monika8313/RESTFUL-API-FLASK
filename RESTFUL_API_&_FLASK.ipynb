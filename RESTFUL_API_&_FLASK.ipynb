{
  "nbformat": 4,
  "nbformat_minor": 0,
  "metadata": {
    "colab": {
      "provenance": []
    },
    "kernelspec": {
      "name": "python3",
      "display_name": "Python 3"
    },
    "language_info": {
      "name": "python"
    }
  },
  "cells": [
    {
      "cell_type": "markdown",
      "source": [
        "#**THEORY QUESTIONS**"
      ],
      "metadata": {
        "id": "WxvzL7mRdM57"
      }
    },
    {
      "cell_type": "markdown",
      "source": [
        "**1. What is a RESTful API?**\n",
        "\n",
        " -A RESTful API (Representational State Transfer API) is a way for different software systems to communicate over the internet using standard web protocols like HTTP. It’s especially useful when you want to exchange data between a server and a client, such as retrieving user information, posting updates, or deleting records.\n",
        "\n",
        "\n",
        "Here’s a clearer breakdown:\n",
        "\n",
        "Key Features of RESTful APIs:\n",
        "\n",
        "- Stateless: Each request is independent. The server doesn’t store any information about previous interactions.\n",
        "- Uses HTTP: Communication happens through standard methods like GET, POST, PUT, DELETE.\n",
        "- Intuitive URL structure: Resources are identified via clear and descriptive URLs.\n",
        "- Data formats: JSON is the most common format used to send and receive data due to its readability and light weight.\n",
        "\n",
        "\n",
        "\n",
        "- GET is used to retrieve data. Example: /users or /users/10\n",
        "- POST is used to create new data. Example: /users with user information in the body\n",
        "- PUT is used to update existing data. Example: /users/10 with updated user details\n",
        "- DELETE is used to remove data. Example: /users/10\n",
        "\n"
      ],
      "metadata": {
        "id": "lkBxC0IrdWdb"
      }
    },
    {
      "cell_type": "markdown",
      "source": [
        "**2. Explain the concept of API specification.**\n",
        "\n",
        " -An API specification is a detailed blueprint that outlines how a software interface behaves, what services it offers, and how developers can interact with it. Think of it as a contract between the API provider and the consumer—it defines what you can ask for and how the system will respond.\n",
        "\n",
        "\n",
        "What It Typically Includes:\n",
        "\n",
        "- Endpoints: The URLs or routes that represent resources, like /users or /products/123.\n",
        "- Methods: Which HTTP actions are supported for each endpoint (GET, POST, PUT, DELETE).\n",
        "- Request format: What data a client needs to send and in what format (usually JSON).\n",
        "- Response format: What kind of data and structure the server will return.\n",
        "- Error codes: How errors are communicated (e.g., 404 for Not Found, 401 for Unauthorized).\n",
        "- Authentication requirements: How users prove who they are, like API keys or OAuth tokens.\n",
        "\n",
        "\n",
        "Why It Matters:\n",
        "\n",
        "API specifications serve two major roles:\n",
        "- Clarity and Consistency: Developers know exactly how the API behaves, reducing trial and error.\n",
        "- Automation and Documentation: Tools like Swagger/OpenAPI use these specs to generate interactive docs, validate requests, and even mock servers for testing.\n"
      ],
      "metadata": {
        "id": "2yzLe8tA9qL8"
      }
    },
    {
      "cell_type": "markdown",
      "source": [
        "**3. What is Flask, and why is it popular for building APIs?**\n",
        "\n",
        " -Flask is a lightweight and flexible web framework written in Python. It’s designed to get web applications—and especially APIs—up and running quickly without requiring tons of boilerplate code. Its simplicity and modular nature make it a favorite among developers, especially for small to medium-sized projects.\n",
        "\n",
        "\n",
        "What Makes Flask Popular for APIs:\n",
        "\n",
        "- Minimalistic Core: Flask doesn’t come with built-in tools for things like form validation or database abstraction. That might sound like a downside, but it gives you full control to pick only the tools you need.\n",
        "- Ease of Use: You can get a simple RESTful API working with just a few lines of code. Great for beginners and prototyping.\n",
        "- Extensibility: Flask supports a wide range of plugins and extensions, so you can add features as your project grows—like authentication, database integration, or input validation.\n",
        "- Strong Community: Lots of tutorials, resources, and extensions available thanks to its popularity.\n",
        "- Compatible with OpenAPI/Swagger: You can easily integrate tools to auto-generate API documentation.\n",
        "\n",
        "\n",
        "\n",
        "Quick Example: A Basic API with Flask\n"
      ],
      "metadata": {
        "id": "QNaUf7B7981q"
      }
    },
    {
      "cell_type": "code",
      "source": [
        "from flask import Flask, jsonify\n",
        "\n",
        "# Define the app\n",
        "app = Flask(__name__)\n",
        "\n",
        "@app.route('/hello')\n",
        "def hello():\n",
        "    return jsonify({'message': 'Hello, Monika!'})\n",
        "\n",
        "# Use Flask's test client to simulate a GET request\n",
        "with app.test_client() as client:\n",
        "    response = client.get('/hello')\n",
        "    print(\"Status code:\", response.status_code)\n",
        "    print(\"Response JSON:\", response.get_json())"
      ],
      "metadata": {
        "colab": {
          "base_uri": "https://localhost:8080/"
        },
        "id": "rSL6AxoTFMQU",
        "outputId": "37613c37-a413-485a-ba9c-bd890178da21"
      },
      "execution_count": null,
      "outputs": [
        {
          "output_type": "stream",
          "name": "stdout",
          "text": [
            "Status code: 200\n",
            "Response JSON: {'message': 'Hello, Monika!'}\n"
          ]
        }
      ]
    },
    {
      "cell_type": "markdown",
      "source": [
        "**4. What is routing in Flask?**\n",
        "\n",
        " -Routing in Flask is the process of mapping URLs to functions in your Python code. These functions are called view functions, and they determine what content is returned when a user accesses a specific URL on your web app.\n",
        "\n",
        "\n",
        "Basic Example:\n",
        "\n"
      ],
      "metadata": {
        "id": "Bs1-RMSmFZG_"
      }
    },
    {
      "cell_type": "code",
      "source": [
        "from flask import Flask\n",
        "app = Flask(__name__)\n",
        "\n",
        "@app.route('/')\n",
        "def home():\n",
        "    return 'Welcome to Monika’s Flask App!'\n",
        "\n",
        "@app.route('/about')\n",
        "def about():\n",
        "    return 'This is the About page.'"
      ],
      "metadata": {
        "id": "HYJmoaWgFulZ"
      },
      "execution_count": null,
      "outputs": []
    },
    {
      "cell_type": "markdown",
      "source": [
        "- When a user goes to the root URL (/), Flask runs the home() function.\n",
        "- If they visit /about, it runs the about() function.\n"
      ],
      "metadata": {
        "id": "GFtVwX4UGg2Z"
      }
    },
    {
      "cell_type": "markdown",
      "source": [
        "Dynamic Routing:\n",
        "\n",
        "You can include dynamic parts in the URL using angle brackets.\n"
      ],
      "metadata": {
        "id": "PKsX0f9bGk6G"
      }
    },
    {
      "cell_type": "code",
      "source": [
        "@app.route('/user/<username>')\n",
        "def show_user(username):\n",
        "    return f'Hello, {username}!'"
      ],
      "metadata": {
        "id": "j9TPJSfvGogS",
        "colab": {
          "base_uri": "https://localhost:8080/",
          "height": 176
        },
        "collapsed": true,
        "outputId": "f3be6938-2595-41e0-f81c-089d195fb262"
      },
      "execution_count": 1,
      "outputs": [
        {
          "output_type": "error",
          "ename": "NameError",
          "evalue": "name 'app' is not defined",
          "traceback": [
            "\u001b[0;31m---------------------------------------------------------------------------\u001b[0m",
            "\u001b[0;31mNameError\u001b[0m                                 Traceback (most recent call last)",
            "\u001b[0;32m/tmp/ipython-input-1-186385268.py\u001b[0m in \u001b[0;36m<cell line: 0>\u001b[0;34m()\u001b[0m\n\u001b[0;32m----> 1\u001b[0;31m \u001b[0;34m@\u001b[0m\u001b[0mapp\u001b[0m\u001b[0;34m.\u001b[0m\u001b[0mroute\u001b[0m\u001b[0;34m(\u001b[0m\u001b[0;34m'/user/<username>'\u001b[0m\u001b[0;34m)\u001b[0m\u001b[0;34m\u001b[0m\u001b[0;34m\u001b[0m\u001b[0m\n\u001b[0m\u001b[1;32m      2\u001b[0m \u001b[0;32mdef\u001b[0m \u001b[0mshow_user\u001b[0m\u001b[0;34m(\u001b[0m\u001b[0musername\u001b[0m\u001b[0;34m)\u001b[0m\u001b[0;34m:\u001b[0m\u001b[0;34m\u001b[0m\u001b[0;34m\u001b[0m\u001b[0m\n\u001b[1;32m      3\u001b[0m     \u001b[0;32mreturn\u001b[0m \u001b[0;34mf'Hello, {username}!'\u001b[0m\u001b[0;34m\u001b[0m\u001b[0;34m\u001b[0m\u001b[0m\n",
            "\u001b[0;31mNameError\u001b[0m: name 'app' is not defined"
          ]
        }
      ]
    },
    {
      "cell_type": "code",
      "source": [
        "@app.route('/post/<int:post_id>')\n",
        "def show_post(post_id):\n",
        "    return f'Post number {post_id}'"
      ],
      "metadata": {
        "id": "N2wy9qIgGiRW",
        "colab": {
          "base_uri": "https://localhost:8080/",
          "height": 176
        },
        "collapsed": true,
        "outputId": "c1a0b26d-56e5-4b2f-b77f-f152eefecbea"
      },
      "execution_count": 2,
      "outputs": [
        {
          "output_type": "error",
          "ename": "NameError",
          "evalue": "name 'app' is not defined",
          "traceback": [
            "\u001b[0;31m---------------------------------------------------------------------------\u001b[0m",
            "\u001b[0;31mNameError\u001b[0m                                 Traceback (most recent call last)",
            "\u001b[0;32m/tmp/ipython-input-2-2570809847.py\u001b[0m in \u001b[0;36m<cell line: 0>\u001b[0;34m()\u001b[0m\n\u001b[0;32m----> 1\u001b[0;31m \u001b[0;34m@\u001b[0m\u001b[0mapp\u001b[0m\u001b[0;34m.\u001b[0m\u001b[0mroute\u001b[0m\u001b[0;34m(\u001b[0m\u001b[0;34m'/post/<int:post_id>'\u001b[0m\u001b[0;34m)\u001b[0m\u001b[0;34m\u001b[0m\u001b[0;34m\u001b[0m\u001b[0m\n\u001b[0m\u001b[1;32m      2\u001b[0m \u001b[0;32mdef\u001b[0m \u001b[0mshow_post\u001b[0m\u001b[0;34m(\u001b[0m\u001b[0mpost_id\u001b[0m\u001b[0;34m)\u001b[0m\u001b[0;34m:\u001b[0m\u001b[0;34m\u001b[0m\u001b[0;34m\u001b[0m\u001b[0m\n\u001b[1;32m      3\u001b[0m     \u001b[0;32mreturn\u001b[0m \u001b[0;34mf'Post number {post_id}'\u001b[0m\u001b[0;34m\u001b[0m\u001b[0;34m\u001b[0m\u001b[0m\n",
            "\u001b[0;31mNameError\u001b[0m: name 'app' is not defined"
          ]
        }
      ]
    },
    {
      "cell_type": "markdown",
      "source": [
        "**5. How do you create a simple Flask application?**\n",
        "\n",
        " -Creating a simple Flask application is a great way to get started with web development in Python. Here’s a clean, step-by-step breakdown to get you going:\n",
        "\n",
        "\n",
        "1. Install Flask\n",
        "\n",
        "Make sure Flask is installed. You can use pip:\n",
        "\n"
      ],
      "metadata": {
        "id": "EjSWi-JGGuis"
      }
    },
    {
      "cell_type": "code",
      "source": [
        "pip install Flask"
      ],
      "metadata": {
        "collapsed": true,
        "colab": {
          "base_uri": "https://localhost:8080/"
        },
        "id": "O8aa9NXo-VA7",
        "outputId": "b68d4975-d36a-428c-d0c9-6619925986a6"
      },
      "execution_count": null,
      "outputs": [
        {
          "output_type": "stream",
          "name": "stdout",
          "text": [
            "Requirement already satisfied: Flask in /usr/local/lib/python3.11/dist-packages (3.1.1)\n",
            "Requirement already satisfied: blinker>=1.9.0 in /usr/local/lib/python3.11/dist-packages (from Flask) (1.9.0)\n",
            "Requirement already satisfied: click>=8.1.3 in /usr/local/lib/python3.11/dist-packages (from Flask) (8.2.1)\n",
            "Requirement already satisfied: itsdangerous>=2.2.0 in /usr/local/lib/python3.11/dist-packages (from Flask) (2.2.0)\n",
            "Requirement already satisfied: jinja2>=3.1.2 in /usr/local/lib/python3.11/dist-packages (from Flask) (3.1.6)\n",
            "Requirement already satisfied: markupsafe>=2.1.1 in /usr/local/lib/python3.11/dist-packages (from Flask) (3.0.2)\n",
            "Requirement already satisfied: werkzeug>=3.1.0 in /usr/local/lib/python3.11/dist-packages (from Flask) (3.1.3)\n"
          ]
        }
      ]
    },
    {
      "cell_type": "markdown",
      "source": [
        "2. Create Your Application File\n",
        "\n",
        "Let’s name it app.py. This will contain your core Flask logic.\n"
      ],
      "metadata": {
        "id": "qo723HEw-bR6"
      }
    },
    {
      "cell_type": "code",
      "source": [
        "from flask import Flask\n",
        "\n",
        "app = Flask(__name__)\n",
        "\n",
        "@app.route('/')\n",
        "def home():\n",
        "    return 'Hello, Monika! Welcome to your first Flask app.'\n",
        "\n",
        "if __name__ == '__main__':\n",
        "    app.run(debug=True)"
      ],
      "metadata": {
        "colab": {
          "base_uri": "https://localhost:8080/"
        },
        "collapsed": true,
        "id": "reLA4CcM-fZ-",
        "outputId": "939a624f-3ce5-401e-eef3-dbce284ce816"
      },
      "execution_count": 6,
      "outputs": [
        {
          "output_type": "stream",
          "name": "stdout",
          "text": [
            " * Serving Flask app '__main__'\n",
            " * Debug mode: on\n"
          ]
        },
        {
          "output_type": "stream",
          "name": "stderr",
          "text": [
            "INFO:werkzeug:\u001b[31m\u001b[1mWARNING: This is a development server. Do not use it in a production deployment. Use a production WSGI server instead.\u001b[0m\n",
            " * Running on http://127.0.0.1:5000\n",
            "INFO:werkzeug:\u001b[33mPress CTRL+C to quit\u001b[0m\n",
            "INFO:werkzeug: * Restarting with stat\n"
          ]
        }
      ]
    },
    {
      "cell_type": "markdown",
      "source": [
        "- Flask(__name__) initializes the app.\n",
        "- @app.route('/') defines the home route.\n",
        "- app.run(debug=True) runs the development server with auto-reload on changes.\n",
        "\n",
        "\n",
        "3. Run the Application\n",
        "\n",
        "In the terminal, navigate to the folder containing app.py, and run:\n",
        "\n"
      ],
      "metadata": {
        "id": "7e5BGd-z_A22"
      }
    },
    {
      "cell_type": "code",
      "source": [
        "!python app.py"
      ],
      "metadata": {
        "colab": {
          "base_uri": "https://localhost:8080/"
        },
        "id": "qw0KicKl_ESt",
        "outputId": "506a2953-9239-45e0-ca3b-31cdb9d4389b"
      },
      "execution_count": 5,
      "outputs": [
        {
          "output_type": "stream",
          "name": "stdout",
          "text": [
            "python3: can't open file '/content/app.py': [Errno 2] No such file or directory\n"
          ]
        }
      ]
    },
    {
      "cell_type": "markdown",
      "source": [
        "4. Add More Routes (Optional)\n",
        "\n",
        "You can expand your app with additional routes:\n"
      ],
      "metadata": {
        "id": "-WQtIg2O_gEB"
      }
    },
    {
      "cell_type": "code",
      "source": [
        "@app.route('/about')\n",
        "def about():\n",
        "    return 'This is the About page.'"
      ],
      "metadata": {
        "colab": {
          "base_uri": "https://localhost:8080/",
          "height": 321
        },
        "collapsed": true,
        "id": "QBm2rRQL_iUN",
        "outputId": "4848107a-2b17-4d57-d431-537c9dd2db35"
      },
      "execution_count": 4,
      "outputs": [
        {
          "output_type": "error",
          "ename": "AssertionError",
          "evalue": "View function mapping is overwriting an existing endpoint function: about",
          "traceback": [
            "\u001b[0;31m---------------------------------------------------------------------------\u001b[0m",
            "\u001b[0;31mAssertionError\u001b[0m                            Traceback (most recent call last)",
            "\u001b[0;32m/tmp/ipython-input-4-944891452.py\u001b[0m in \u001b[0;36m<cell line: 0>\u001b[0;34m()\u001b[0m\n\u001b[0;32m----> 1\u001b[0;31m \u001b[0;34m@\u001b[0m\u001b[0mapp\u001b[0m\u001b[0;34m.\u001b[0m\u001b[0mroute\u001b[0m\u001b[0;34m(\u001b[0m\u001b[0;34m'/about'\u001b[0m\u001b[0;34m)\u001b[0m\u001b[0;34m\u001b[0m\u001b[0;34m\u001b[0m\u001b[0m\n\u001b[0m\u001b[1;32m      2\u001b[0m \u001b[0;32mdef\u001b[0m \u001b[0mabout\u001b[0m\u001b[0;34m(\u001b[0m\u001b[0;34m)\u001b[0m\u001b[0;34m:\u001b[0m\u001b[0;34m\u001b[0m\u001b[0;34m\u001b[0m\u001b[0m\n\u001b[1;32m      3\u001b[0m     \u001b[0;32mreturn\u001b[0m \u001b[0;34m'This is the About page.'\u001b[0m\u001b[0;34m\u001b[0m\u001b[0;34m\u001b[0m\u001b[0m\n",
            "\u001b[0;32m/usr/local/lib/python3.11/dist-packages/flask/sansio/scaffold.py\u001b[0m in \u001b[0;36mdecorator\u001b[0;34m(f)\u001b[0m\n\u001b[1;32m    360\u001b[0m         \u001b[0;32mdef\u001b[0m \u001b[0mdecorator\u001b[0m\u001b[0;34m(\u001b[0m\u001b[0mf\u001b[0m\u001b[0;34m:\u001b[0m \u001b[0mT_route\u001b[0m\u001b[0;34m)\u001b[0m \u001b[0;34m->\u001b[0m \u001b[0mT_route\u001b[0m\u001b[0;34m:\u001b[0m\u001b[0;34m\u001b[0m\u001b[0;34m\u001b[0m\u001b[0m\n\u001b[1;32m    361\u001b[0m             \u001b[0mendpoint\u001b[0m \u001b[0;34m=\u001b[0m \u001b[0moptions\u001b[0m\u001b[0;34m.\u001b[0m\u001b[0mpop\u001b[0m\u001b[0;34m(\u001b[0m\u001b[0;34m\"endpoint\"\u001b[0m\u001b[0;34m,\u001b[0m \u001b[0;32mNone\u001b[0m\u001b[0;34m)\u001b[0m\u001b[0;34m\u001b[0m\u001b[0;34m\u001b[0m\u001b[0m\n\u001b[0;32m--> 362\u001b[0;31m             \u001b[0mself\u001b[0m\u001b[0;34m.\u001b[0m\u001b[0madd_url_rule\u001b[0m\u001b[0;34m(\u001b[0m\u001b[0mrule\u001b[0m\u001b[0;34m,\u001b[0m \u001b[0mendpoint\u001b[0m\u001b[0;34m,\u001b[0m \u001b[0mf\u001b[0m\u001b[0;34m,\u001b[0m \u001b[0;34m**\u001b[0m\u001b[0moptions\u001b[0m\u001b[0;34m)\u001b[0m\u001b[0;34m\u001b[0m\u001b[0;34m\u001b[0m\u001b[0m\n\u001b[0m\u001b[1;32m    363\u001b[0m             \u001b[0;32mreturn\u001b[0m \u001b[0mf\u001b[0m\u001b[0;34m\u001b[0m\u001b[0;34m\u001b[0m\u001b[0m\n\u001b[1;32m    364\u001b[0m \u001b[0;34m\u001b[0m\u001b[0m\n",
            "\u001b[0;32m/usr/local/lib/python3.11/dist-packages/flask/sansio/scaffold.py\u001b[0m in \u001b[0;36mwrapper_func\u001b[0;34m(self, *args, **kwargs)\u001b[0m\n\u001b[1;32m     45\u001b[0m     \u001b[0;32mdef\u001b[0m \u001b[0mwrapper_func\u001b[0m\u001b[0;34m(\u001b[0m\u001b[0mself\u001b[0m\u001b[0;34m:\u001b[0m \u001b[0mScaffold\u001b[0m\u001b[0;34m,\u001b[0m \u001b[0;34m*\u001b[0m\u001b[0margs\u001b[0m\u001b[0;34m:\u001b[0m \u001b[0mt\u001b[0m\u001b[0;34m.\u001b[0m\u001b[0mAny\u001b[0m\u001b[0;34m,\u001b[0m \u001b[0;34m**\u001b[0m\u001b[0mkwargs\u001b[0m\u001b[0;34m:\u001b[0m \u001b[0mt\u001b[0m\u001b[0;34m.\u001b[0m\u001b[0mAny\u001b[0m\u001b[0;34m)\u001b[0m \u001b[0;34m->\u001b[0m \u001b[0mt\u001b[0m\u001b[0;34m.\u001b[0m\u001b[0mAny\u001b[0m\u001b[0;34m:\u001b[0m\u001b[0;34m\u001b[0m\u001b[0;34m\u001b[0m\u001b[0m\n\u001b[1;32m     46\u001b[0m         \u001b[0mself\u001b[0m\u001b[0;34m.\u001b[0m\u001b[0m_check_setup_finished\u001b[0m\u001b[0;34m(\u001b[0m\u001b[0mf_name\u001b[0m\u001b[0;34m)\u001b[0m\u001b[0;34m\u001b[0m\u001b[0;34m\u001b[0m\u001b[0m\n\u001b[0;32m---> 47\u001b[0;31m         \u001b[0;32mreturn\u001b[0m \u001b[0mf\u001b[0m\u001b[0;34m(\u001b[0m\u001b[0mself\u001b[0m\u001b[0;34m,\u001b[0m \u001b[0;34m*\u001b[0m\u001b[0margs\u001b[0m\u001b[0;34m,\u001b[0m \u001b[0;34m**\u001b[0m\u001b[0mkwargs\u001b[0m\u001b[0;34m)\u001b[0m\u001b[0;34m\u001b[0m\u001b[0;34m\u001b[0m\u001b[0m\n\u001b[0m\u001b[1;32m     48\u001b[0m \u001b[0;34m\u001b[0m\u001b[0m\n\u001b[1;32m     49\u001b[0m     \u001b[0;32mreturn\u001b[0m \u001b[0mt\u001b[0m\u001b[0;34m.\u001b[0m\u001b[0mcast\u001b[0m\u001b[0;34m(\u001b[0m\u001b[0mF\u001b[0m\u001b[0;34m,\u001b[0m \u001b[0mupdate_wrapper\u001b[0m\u001b[0;34m(\u001b[0m\u001b[0mwrapper_func\u001b[0m\u001b[0;34m,\u001b[0m \u001b[0mf\u001b[0m\u001b[0;34m)\u001b[0m\u001b[0;34m)\u001b[0m\u001b[0;34m\u001b[0m\u001b[0;34m\u001b[0m\u001b[0m\n",
            "\u001b[0;32m/usr/local/lib/python3.11/dist-packages/flask/sansio/app.py\u001b[0m in \u001b[0;36madd_url_rule\u001b[0;34m(self, rule, endpoint, view_func, provide_automatic_options, **options)\u001b[0m\n\u001b[1;32m    655\u001b[0m             \u001b[0mold_func\u001b[0m \u001b[0;34m=\u001b[0m \u001b[0mself\u001b[0m\u001b[0;34m.\u001b[0m\u001b[0mview_functions\u001b[0m\u001b[0;34m.\u001b[0m\u001b[0mget\u001b[0m\u001b[0;34m(\u001b[0m\u001b[0mendpoint\u001b[0m\u001b[0;34m)\u001b[0m\u001b[0;34m\u001b[0m\u001b[0;34m\u001b[0m\u001b[0m\n\u001b[1;32m    656\u001b[0m             \u001b[0;32mif\u001b[0m \u001b[0mold_func\u001b[0m \u001b[0;32mis\u001b[0m \u001b[0;32mnot\u001b[0m \u001b[0;32mNone\u001b[0m \u001b[0;32mand\u001b[0m \u001b[0mold_func\u001b[0m \u001b[0;34m!=\u001b[0m \u001b[0mview_func\u001b[0m\u001b[0;34m:\u001b[0m\u001b[0;34m\u001b[0m\u001b[0;34m\u001b[0m\u001b[0m\n\u001b[0;32m--> 657\u001b[0;31m                 raise AssertionError(\n\u001b[0m\u001b[1;32m    658\u001b[0m                     \u001b[0;34m\"View function mapping is overwriting an existing\"\u001b[0m\u001b[0;34m\u001b[0m\u001b[0;34m\u001b[0m\u001b[0m\n\u001b[1;32m    659\u001b[0m                     \u001b[0;34mf\" endpoint function: {endpoint}\"\u001b[0m\u001b[0;34m\u001b[0m\u001b[0;34m\u001b[0m\u001b[0m\n",
            "\u001b[0;31mAssertionError\u001b[0m: View function mapping is overwriting an existing endpoint function: about"
          ]
        }
      ]
    },
    {
      "cell_type": "markdown",
      "source": [
        "**6. What are HTTP methods used in RESTful APIs?**\n",
        "\n",
        " -In RESTful APIs, HTTP methods are used to define specific operations that can be performed on resources. Here are the most commonly used ones:\n",
        "\n",
        "1. GET\n",
        "- Retrieves data from the server.\n",
        "- Used to read or fetch resources.\n",
        "- Safe and idempotent—doesn’t change the server state.\n",
        "\n",
        "\n",
        "2. POST\n",
        "Creates a new resource.\n",
        "- Use case: Submitting a new user or form data.\n",
        "- Example: POST /products\n",
        "\n",
        "\n",
        "3. PUT\n",
        "Fully updates an existing resource.\n",
        "- Use case: Replacing all fields of a product entry.\n",
        "- Example: PUT /products/10\n",
        "\n",
        "\n",
        "4. PATCH\n",
        "Partially updates a resource.\n",
        "- Use case: Changing only the price field of a product.\n",
        "- Example: PATCH /products/10\n",
        "\n",
        "\n",
        "5. DELETE\n",
        "Removes a resource.\n",
        "- Use case: Deleting a user or item.\n",
        "- Example: DELETE /products/10\n",
        "\n",
        "\n",
        "6. OPTIONS\n",
        "Describes supported HTTP methods for a resource.\n",
        "- Use case: CORS preflight requests.\n",
        "- Example: OPTIONS /products\n",
        "\n",
        "\n",
        "\n"
      ],
      "metadata": {
        "id": "Ul56F-RYADeu"
      }
    },
    {
      "cell_type": "code",
      "source": [
        "from flask import Flask, request\n",
        "\n",
        "# Create the Flask application\n",
        "app = Flask(__name__)\n",
        "\n",
        "# Home route\n",
        "@app.route('/')\n",
        "def home():\n",
        "    return 'Hello, Monika! Welcome to your first Flask app.'\n",
        "\n",
        "# About route\n",
        "@app.route('/about')\n",
        "def about():\n",
        "    return 'This is the About page.'\n",
        "\n",
        "# Products route handling both GET and POST\n",
        "@app.route('/products', methods=['GET', 'POST'])\n",
        "def handle_products():\n",
        "    if request.method == 'POST':\n",
        "        return 'Received a POST request at /products!'\n",
        "    return 'Received a GET request at /products.'\n",
        "\n",
        "# Run the application\n",
        "if __name__ == '_main_':\n",
        "    app.run(debug=True)"
      ],
      "metadata": {
        "id": "JV07k97rBjLN"
      },
      "execution_count": 3,
      "outputs": []
    },
    {
      "cell_type": "markdown",
      "source": [
        "**7. What is the purpose of the @app.route() decorator in Flask?**\n",
        "\n",
        " -To explain the function and importance of the @app.route() decorator in Flask web development, particularly in managing URL routing and handling HTTP requests.\n",
        "\n",
        "\n",
        "Introduction:\n",
        "\n",
        "Flask is a popular Python-based micro web framework known for its simplicity and flexibility in building web applications. One of its fundamental tools is the @app.route() decorator, which plays a key role in defining how the application responds to user requests via URLs.\n",
        "\n",
        "\n",
        "Main Explanation:\n",
        "\n",
        "1. What the Decorator Does:\n",
        "\n",
        "- The @app.route() decorator maps a specific URL to a corresponding Python function.\n",
        "- This means that when a user visits that URL in their browser, Flask knows which function to execute and what content to deliver.\n",
        "\n",
        "\n",
        "2. Request Handling:\n",
        "\n",
        "- It handles different types of HTTP methods such as GET (for retrieving data) and POST (for submitting data).\n",
        "- These methods can be specified within the decorator to control how a URL behaves during different interactions.\n",
        "\n",
        "\n",
        "3. Routing Table Construction:\n",
        "\n",
        "- Behind the scenes, Flask compiles a routing table using all route decorators.\n",
        "- This table allows Flask to efficiently match incoming requests to the correct functions based on the URL and method.\n",
        "\n",
        "\n",
        "4. Real-World Relevance:\n",
        "\n",
        "- Useful for creating pages like home, login, dashboard, and API endpoints.\n",
        "- Allows developers to build both static and dynamic web content seamlessly.\n",
        "\n",
        "\n",
        "Conclusion:\n",
        "\n",
        "The @app.route() decorator is essential in Flask as it enables the linking of URLs to Python functions. This structure simplifies how web pages and APIs are built and managed, offering developers control over how their application responds to user activity.\n"
      ],
      "metadata": {
        "id": "ISKCRMLzCO4h"
      }
    },
    {
      "cell_type": "markdown",
      "source": [
        "**8. What is the difference between GET and POST HTTP methods?**\n",
        "\n",
        " -To explain the functional differences between the GET and POST methods in HTTP, emphasizing their use cases, characteristics, and impact in web development.\n",
        "\n",
        "\n",
        "Introduction:\n",
        "\n",
        "HTTP methods define how clients interact with servers in a web application. Among these, GET and POST are two of the most commonly used methods. They play distinct roles in data exchange, user interaction, and application design.\n",
        "\n",
        "\n",
        "Main Explanation:\n",
        "\n",
        "1.Definition and Purpose:\n",
        "\n",
        "- GET Method: Retrieves data from the server. It is used when the client requests information, such as loading a web page or fetching an API response.\n",
        "- POST Method: Sends data to the server. It is used for operations like submitting forms, uploading files, or creating resources.\n",
        "\n",
        "\n",
        "2.Visibility of Data:\n",
        "\n",
        "- GET: Data is appended to the URL in the form of query parameters, making it visible to users.\n",
        "- POST: Data is enclosed within the body of the HTTP request, making it invisible in the URL.\n",
        "\n",
        "\n",
        "3.Usage Scenarios:\n",
        "\n",
        "- GET: Suitable for actions that do not change server data—such as displaying content or searching.\n",
        "- POST: Appropriate for actions that create or update server data—such as registering a user or submitting feedback.\n",
        "\n",
        "\n",
        "4.Security Considerations:\n",
        "\n",
        "- GET: Less secure, as data is exposed in the URL. Not recommended for sensitive information.\n",
        "- POST: More secure in comparison, since data is not exposed in the URL, though encryption (like HTTPS) is still important.\n",
        "\n",
        "\n",
        "5.Caching Behavior:\n",
        "\n",
        "- GET: Responses are typically cacheable by browsers and intermediaries.\n",
        "- POST: Responses are generally not cached due to their data-changing nature.\n",
        "\n",
        "\n",
        "Conclusion:\n",
        "\n",
        "GET and POST serve distinct roles in web communication. GET focuses on data retrieval and is ideal for read-only requests, while POST supports data submission and is designed for modifying server-side resources. Understanding their differences helps in designing secure, efficient, and functional web applications.\n",
        "\n"
      ],
      "metadata": {
        "id": "LEXmlkWV2_zJ"
      }
    },
    {
      "cell_type": "markdown",
      "source": [
        "**9. How do you handle errors in Flask APIs?**\n",
        "\n",
        " -To explore the methods and strategies used to manage errors in Flask APIs, ensuring reliable and user-friendly application behavior.\n",
        "\n",
        "\n",
        "Introduction:\n",
        "\n",
        "Flask APIs are built to serve requests and return appropriate responses. However, errors—such as incorrect input, missing resources, or unexpected failures—can occur. Handling these errors properly helps maintain application stability, enhances debugging, and improves user experience.\n",
        "\n",
        "\n",
        "Main Explanation:\n",
        "\n",
        "1.Using HTTP Status Codes:\n",
        "\n",
        "- Flask allows developers to return standard HTTP status codes like 400 (Bad Request), 404 (Not Found), and 500 (Internal Server Error).\n",
        "- These codes inform the client about the nature of the issue, guiding proper response handling.\n",
        "\n",
        "\n",
        "2.Custom Error Responses:\n",
        "\n",
        "- Developers can create custom messages that are returned alongside error codes.\n",
        "- This ensures clarity and helps clients understand what went wrong, such as when submitting invalid data or accessing a missing page.\n",
        "\n",
        "\n",
        "3.abort() Function:\n",
        "\n",
        "- Flask provides an abort() function to immediately stop the request and return an error code.\n",
        "- It’s useful for enforcing conditions, like denying access or halting a request when a resource isn't found.\n",
        "\n",
        "\n",
        "4.Error Handlers with @app.errorhandler:\n",
        "\n",
        "- Flask enables registration of error-handling functions using decorators.\n",
        "- These functions catch specific error types and allow for clean, unified responses across the application.\n",
        "\n",
        "5.Try-Except Blocks:\n",
        "\n",
        "- Python’s built-in error handling can be used to manage unexpected failures within a route.\n",
        "- Developers use try-except to catch exceptions, log issues, and return informative feedback to the client.\n",
        "\n",
        "\n",
        "6.Logging Errors:\n",
        "\n",
        "- Flask supports logging tools that record error events.\n",
        "- This helps developers diagnose problems by reviewing error history and system behavior.\n",
        "\n",
        "\n",
        "Conclusion:\n",
        "\n",
        "Error handling in Flask APIs combines HTTP status codes, custom messages, and structured control mechanisms to ensure smooth operation and clear communication. By anticipating failures and responding consistently, developers can build robust applications that remain user-friendly even in challenging scenarios.\n"
      ],
      "metadata": {
        "id": "bM_Io_zU4CuS"
      }
    },
    {
      "cell_type": "markdown",
      "source": [
        "**10. How do you connect Flask to a SQL database?**\n",
        "\n",
        " -To explain the process and tools required to integrate a Flask web application with a SQL database, enabling data storage, retrieval, and manipulation.\n",
        "\n",
        "\n",
        "Introduction:\n",
        "\n",
        "Databases play a vital role in dynamic web applications. Flask, as a micro-framework, supports database connectivity, allowing developers to store user inputs, manage content, and enable real-time data access. SQL databases are commonly used for structured data, and Flask offers multiple ways to connect to them.\n",
        "\n",
        "\n",
        "Main Explanation:\n",
        "\n",
        "1.Choosing a Database System:\n",
        "- Common options include SQLite (lightweight and file-based), MySQL, and PostgreSQL (more robust and scalable).\n",
        "- SQLite is often used for development due to its simplicity, while MySQL/PostgreSQL suit production-level applications.\n",
        "\n",
        "\n",
        "2.Using Flask Extensions:\n",
        "\n",
        "- The most popular extension for database connectivity is Flask SQLAlchemy.\n",
        "- SQLAlchemy provides an abstraction layer that simplifies working with SQL databases using Python-friendly syntax.\n",
        "\n",
        "\n",
        "3.Configuration:\n",
        "\n",
        "- The application must be configured to include the database connection string, which contains details like the database type, username, password, host, and name.\n",
        "- This configuration is usually stored in Flask’s application settings.\n",
        "\n",
        "\n",
        "4.Initializing the Connection:\n",
        "\n",
        "- Once configured, the database connection is established when the application starts.\n",
        "- Developers create models representing database tables and use them to interact with records.\n",
        "\n",
        "\n",
        "5.Performing Operations:\n",
        "\n",
        "- Flask allows operations like adding new data (inserting records), retrieving existing data (queries), updating information, and deleting records.\n",
        "- SQLAlchemy helps handle these operations securely and efficiently.\n",
        "\n",
        "\n",
        "5.Migration Tools:\n",
        "\n",
        "- For managing schema changes over time, tools like Flask-Migrate (based on Alembic) help developers apply and track database modifications.\n",
        "\n",
        "\n",
        "Conclusion:\n",
        "\n",
        "Connecting Flask to a SQL database involves selecting a suitable system, using helpful extensions like SQLAlchemy, configuring access details, and initializing the connection. This integration forms the backbone of dynamic web applications, enabling data-driven features and robust backend functionality.\n"
      ],
      "metadata": {
        "id": "5eJIoEF85TDP"
      }
    },
    {
      "cell_type": "markdown",
      "source": [
        "**11. What is the role of Flask-SQLAlchemy?**\n",
        "\n",
        " -To explain the function and advantages of Flask-SQLAlchemy as a database toolkit within Flask applications, focusing on its impact on database integration, efficiency, and code structure.\n",
        "\n",
        "\n",
        "Introduction:\n",
        "\n",
        "Flask-SQLAlchemy is a powerful extension that integrates the SQLAlchemy toolkit into Flask applications. SQLAlchemy is a widely used Object Relational Mapper (ORM) for Python that simplifies database operations. By combining it with Flask, developers gain access to a flexible and high-level interface for managing structured data.\n",
        "\n",
        "\n",
        "Main Explanation:\n",
        "\n",
        "1.Database Abstraction:\n",
        "\n",
        "- Flask-SQLAlchemy allows developers to interact with a SQL database using Python classes instead of writing raw SQL queries.\n",
        "- This abstraction improves code readability and reduces the likelihood of errors in query syntax.\n",
        "\n",
        "\n",
        "2.Model Definition:\n",
        "\n",
        "- Developers define Python classes that represent tables in the database.\n",
        "- Each class contains attributes that map to columns, making it intuitive to define and manipulate structured data.\n",
        "\n",
        "\n",
        "3.Simplified CRUD Operations:\n",
        "\n",
        "- Flask-SQLAlchemy provides a range of functions to Create, Read, Update, and Delete records efficiently.\n",
        "- These operations are easier to manage and debug compared to traditional SQL queries.\n",
        "\n",
        "\n",
        "4.Database Connection Management:\n",
        "\n",
        "- The extension handles the setup and teardown of database connections behind the scenes.\n",
        "- This ensures that applications run smoothly and securely with minimal manual effort.\n",
        "\n",
        "\n",
        "5.Migration Support:\n",
        "\n",
        "- When paired with tools like Flask-Migrate, developers can track changes to the database schema over time.\n",
        "- This is essential for maintaining consistency in evolving applications.\n",
        "\n",
        "\n",
        "6.Integration with Flask’s Context:\n",
        "\n",
        "- Flask-SQLAlchemy works seamlessly with Flask's application and request contexts.\n",
        "- This means database access is properly scoped to user interactions, reducing errors in multi-user environments.\n",
        "\n",
        "\n",
        "Conclusion:\n",
        "\n",
        "Flask-SQLAlchemy plays a central role in managing structured data within Flask web applications. It offers developers a clean and efficient way to build, query, and maintain SQL databases using Python syntax. Its integration with Flask’s architecture simplifies the development of scalable and maintainable backend systems.\n"
      ],
      "metadata": {
        "id": "ljSnO5Av5Sj3"
      }
    },
    {
      "cell_type": "markdown",
      "source": [
        "**12. What are Flask blueprints, and how are they useful?**\n",
        "\n",
        " -To explain the concept of blueprints in Flask and highlight their role in structuring scalable web applications.\n",
        "\n",
        "\n",
        "Main Points:\n",
        "\n",
        "- Blueprints are modular components that let you organize Flask code by grouping related routes, templates, and static files.\n",
        "- They help break the application into smaller, reusable parts—like user authentication, dashboards, or APIs.\n",
        "- Blueprints promote cleaner code and make large applications easier to manage and maintain.\n",
        "- They enable developers to register each section of the app independently and integrate it into the main application.\n",
        "\n",
        "\n",
        "Conclusion:\n",
        "\n",
        "Flask blueprints simplify development by dividing the application into logical sections. This modular design improves code clarity, facilitates teamwork, and supports project scalability.\n"
      ],
      "metadata": {
        "id": "9MYkIKjW5Sah"
      }
    },
    {
      "cell_type": "markdown",
      "source": [
        "**13. What is the purpose of Flask's request object?**\n",
        "\n",
        " -To explain the role of the request object in Flask and how it supports handling incoming client data.\n",
        "\n",
        "\n",
        "Main Points:\n",
        "\n",
        "- The request object provides access to incoming data from HTTP requests.\n",
        "- It allows retrieval of form inputs, URL parameters, headers, cookies, and uploaded files.\n",
        "- Developers use it to read what the user has sent to the server, especially in POST and GET requests.\n",
        "- It helps process user interactions, such as login forms or search queries, by accessing request content during route handling.\n",
        "\n",
        "\n",
        "Conclusion:\n",
        "\n",
        "Flask’s request object acts as a bridge between client input and server logic. It plays a critical role in capturing and responding to user-provided data, making web applications interactive and dynamic.\n"
      ],
      "metadata": {
        "id": "lKEBOOyb8nBg"
      }
    },
    {
      "cell_type": "markdown",
      "source": [
        "**14.  How do you create a RESTful API endpoint using Flask?**\n",
        "\n",
        " -To understand the steps involved in setting up a RESTful API endpoint using Flask for handling client-server interactions.\n",
        "\n",
        "\n",
        "Main Points:\n",
        "\n",
        "- Define a route using Flask’s routing system, typically with methods like GET, POST, PUT, or DELETE.\n",
        "- Inside the route function, process the request using Flask’s request object to read incoming data.\n",
        "- Respond with relevant data using Flask’s jsonify function or by manually constructing a JSON response.\n",
        "- Use HTTP status codes to indicate the result of the operation, such as 200 for success or 404 for not found.\n",
        "- Apply REST principles by organizing endpoints around resources—such as /users, /products, or /orders—and allowing standard operations on each.\n",
        "\n",
        "\n",
        "Conclusion:\n",
        "\n",
        "A RESTful API in Flask is built by defining routes that correspond to resources and standard HTTP methods. This design makes it easy for clients to interact with the backend using predictable and structured endpoints.\n"
      ],
      "metadata": {
        "id": "3tq_wAGU80OX"
      }
    },
    {
      "cell_type": "markdown",
      "source": [
        "**15. What is the purpose of Flask's jsonify() function?**\n",
        "\n",
        " -To understand how Flask’s jsonify() function supports structured data exchange between a server and client in web applications.\n",
        "\n",
        "\n",
        "Main Points:\n",
        "\n",
        "- jsonify() converts Python data types (like dictionaries or lists) into a properly formatted JSON response.\n",
        "- It ensures the response has the correct content type (application/json) for API clients and browsers to interpret.\n",
        "- Automatically handles encoding and escaping to maintain valid JSON structure.\n",
        "- Often used in RESTful API endpoints to return data like user profiles, search results, or error messages.\n",
        "\n",
        "\n",
        "Conclusion:\n",
        "\n",
        "Flask’s jsonify() simplifies the process of sending structured data to clients in a consistent, readable format. It’s essential for building APIs that rely on JSON for communication.\n"
      ],
      "metadata": {
        "id": "EQLqFO4F9JmO"
      }
    },
    {
      "cell_type": "markdown",
      "source": [
        "**16. Explain Flask’s url_for() function.**\n",
        "\n",
        " -To explain the role of the url_for() function in Flask and its significance in building reliable, flexible web applications.\n",
        "\n",
        "\n",
        "Main Points:\n",
        "\n",
        "- url_for() dynamically generates the URL for a given function based on its name.\n",
        "- It helps avoid hardcoding URLs, making the application easier to maintain and update.\n",
        "- Commonly used in templates and redirects to ensure correct URL paths even when routes change.\n",
        "- Supports passing arguments to build URLs with query parameters or variable paths.\n",
        "\n",
        "\n",
        "Conclusion:\n",
        "\n",
        "Flask’s url_for() function enhances application reliability by generating route links programmatically. This reduces errors, supports cleaner code, and adapts easily to future changes.\n"
      ],
      "metadata": {
        "id": "89B72UMk9qqn"
      }
    },
    {
      "cell_type": "markdown",
      "source": [
        "**17. How does Flask handle static files (CSS, JavaScript, etc.)?**\n",
        "\n",
        " -Flask handles static files through a built-in mechanism that’s both simple and effective for organizing assets like CSS, JavaScript, and images. Here's a concise explanation:\n",
        "\n",
        "\n",
        "\n",
        "Flask and Static Files – Key Points:\n",
        "\n",
        "\n",
        "- Static Folder: By default, Flask looks for a folder named static in your project directory. This is where you store all non-dynamic assets.\n",
        "- Automatic Serving: Any file placed inside that folder can be accessed directly by users through the web browser. Flask automatically maps URLs to these files without needing extra configuration.\n",
        "- Purpose: It allows separation between logic and presentation—your Python code runs the app while static files handle layout, styling, and browser-side behavior.\n",
        "- Dynamic Linking: Flask offers a function that dynamically links to these files, so you don’t have to hardcode paths. This makes your app flexible and easier to maintain when things change.\n",
        "- Customization: If needed, you can change the name or location of your static folder using configuration options during app setup.\n",
        "\n"
      ],
      "metadata": {
        "id": "lzWUsG1w96Xh"
      }
    },
    {
      "cell_type": "markdown",
      "source": [
        "**18. What is an API specification, and how does it help in building a Flask AP?**\n",
        "\n",
        " -An API specification is essentially a blueprint that defines how clients and servers should communicate through an API. When building a Flask API, the specification serves as a guide for what the API should do, how it should behave, and what users can expect.\n",
        "\n",
        "\n",
        "\n",
        "What an API Specification Includes:\n",
        "\n",
        "- Endpoints: The URLs where the API can be accessed\n",
        "- HTTP Methods: Such as GET, POST, PUT, DELETE—defining what each endpoint does\n",
        "- Request Format: What data a client needs to send, and how\n",
        "- Response Format: What data the API will send back, including status codes\n",
        "- Authentication Rules: Details on access control and user verification\n",
        "- Error Handling: Descriptions of possible error responses and how they're managed\n",
        "\n",
        "\n",
        "\n",
        "How It Helps in Flask Development:\n",
        "\n",
        "- Clarity for Developers: Everyone on the team knows exactly how the API behaves\n",
        "- Consistency: Promotes uniform design across endpoints and applications\n",
        "- Validation Tools: Libraries like OpenAPI and Swagger use specs to test and document your Flask API\n",
        "- Faster Debugging: You know what “should” happen when something goes wrong\n",
        "- Client Confidence: External apps can integrate more easily and safely.\n"
      ],
      "metadata": {
        "id": "1nWj8IfK-jNP"
      }
    },
    {
      "cell_type": "markdown",
      "source": [
        "**19. What are HTTP status codes, and why are they important in a Flask API?**\n",
        "\n",
        " -HTTP status codes are standard responses sent by a server to indicate the result of a client’s request—like a browser or an API call. When you're building a Flask API, these codes are essential for communication between your server and the client.\n",
        "\n",
        "\n",
        "\n",
        "What HTTP Status Codes Represent:\n",
        "\n",
        "- Success: Codes like 200 OK show the request was successful.\n",
        "- Client Errors: Codes like 400 Bad Request or 404 Not Found tell the user something was wrong with their request.\n",
        "- Server Errors: Codes like 500 Internal Server Error reflect a problem on your API’s side.\n",
        "\n",
        "\n",
        "Why They Matter in Flask APIs:\n",
        "\n",
        "- Clear Communication: They tell the client exactly how the server interpreted the request.\n",
        "- Better Debugging: Helps developers identify and fix issues quickly.\n",
        "- Automation and Integration: External applications and frontend frameworks can respond smartly to different codes (e.g. retry on a 503, show an error on a 401).\n",
        "- Security: They help enforce rules, like denying access with 403 Forbidden.\n",
        "\n",
        "\n"
      ],
      "metadata": {
        "id": "HoGs2AJE-7_y"
      }
    },
    {
      "cell_type": "markdown",
      "source": [
        "**20. How do you handle POST requests in Flask?**\n",
        "\n",
        " -Handling POST requests in Flask is all about letting users send data to your application—like submitting a form, uploading a file, or posting a comment. Here's a clear, step-by-step rundown:\n",
        "\n",
        "\n",
        "\n",
        "Understanding POST Requests in Flask\n",
        "\n",
        "Purpose\n",
        "\n",
        "POST requests are used when you want the client (like a browser or mobile app) to send data to your server. Unlike GET, POST doesn’t append data to the URL—it sends it in the body of the request.\n",
        "\n",
        "\n",
        "Basic Workflow:\n",
        "\n",
        "- A user interacts with a form or frontend application.\n",
        "- The frontend sends a POST request to a specific route on your Flask app.\n",
        "- Flask receives the data and processes it—maybe storing it in a database or triggering some internal logic.\n",
        "- The server usually responds with a success message, redirects, or new content.\n",
        "\n",
        "\n",
        "\n",
        "How Flask Handles It:\n",
        "\n",
        "- You define a route that allows the POST method.\n",
        "- Inside that route, you access the incoming data—like text inputs or uploaded files.\n",
        "- You act on that data—validate it, save it, transform it, or whatever the logic demands.\n",
        "- You send back a response that suits the situation.\n",
        "\n",
        "\n",
        "Common Use Cases:\n",
        "\n",
        "- User sign-up forms\n",
        "- Feedback submissions\n",
        "- Data uploads (e.g. CSV, images)\n",
        "- Login systems\n",
        "- APIs accepting JSON data\n"
      ],
      "metadata": {
        "id": "D6JSV5KF_W8D"
      }
    },
    {
      "cell_type": "markdown",
      "source": [
        "**21.  How would you secure a Flask API?**\n",
        "\n",
        " -Securing a Flask API involves layering protections to control access, validate data, and safeguard sensitive resources. Here's a structured rundown:\n",
        "\n",
        "Key Strategies for Securing a Flask API:\n",
        "\n",
        "1. Authentication and Authorization\n",
        "- Use authentication to verify who is accessing your API (e.g. login credentials, API keys).\n",
        "- Use authorization to control what each user or app can access.\n",
        "- Implement methods like token-based systems (e.g. JWT) for stateless security.\n",
        "\n",
        "2. HTTPS Everywhere\n",
        "- Serve your API over HTTPS to encrypt data in transit, protecting against eavesdropping and man-in-the-middle attacks.\n",
        "\n",
        "3. Input Validation and Sanitization\n",
        "- Always validate incoming data to prevent injection attacks (like SQL injection or cross-site scripting).\n",
        "- Use tools like Marshmallow or WTForms for clean input handling.\n",
        "\n",
        "4. Rate Limiting and Throttling\n",
        "- Limit how many requests a user or IP can make in a short period.\n",
        "- Prevent abuse and denial-of-service attacks using extensions like Flask-Limiter.\n",
        "\n",
        "5. CORS Configuration\n",
        "- Control which domains are allowed to interact with your API using proper Cross-Origin Resource Sharing (CORS) settings.\n",
        "\n",
        "6. Error Handling and Information Disclosure\n",
        "- Avoid exposing internal error messages or stack traces to users.\n",
        "- Configure Flask to handle exceptions gracefully and return clean, consistent error responses.\n",
        "\n",
        "7. Secure Dependencies and Packages\n",
        "- Keep Flask and other libraries up-to-date to patch vulnerabilities.\n",
        "- Audit third-party packages for security before adding them to your project.\n",
        "\n",
        "8. Environment and Configuration Management\n",
        "- Store sensitive credentials in environment variables, not in source code.\n",
        "- Use configuration tools to separate development, testing, and production environments securely.\n"
      ],
      "metadata": {
        "id": "0GbToBgJACSY"
      }
    },
    {
      "cell_type": "markdown",
      "source": [
        "**22. What is the significance of the Flask-RESTful extension?**\n",
        "\n",
        " -The Flask-RESTful extension is significant because it streamlines the process of building RESTful APIs with Flask, making it more organized and developer-friendly. Here’s how it helps:\n",
        "\n",
        "\n",
        "Why Flask-RESTful Matters:\n",
        "\n",
        "1. Simplified API Design\n",
        "It provides a structured way to define resources and their behaviors—like endpoints for handling data—using object-oriented patterns. That means less boilerplate and cleaner code.\n",
        "\n",
        "2. Class-Based Views\n",
        "Instead of writing separate functions for each route, Flask-RESTful lets you group related logic into classes. Each HTTP method (like GET, POST) becomes a method inside that class.\n",
        "\n",
        "3. Built-in Request Parsing\n",
        "It includes tools to safely extract and validate input data from requests—no need to manually check every field.\n",
        "\n",
        "4. Better Error Handling\n",
        "Flask-RESTful offers easy ways to return consistent, well-formatted error messages, which improves the client experience and debugging process.\n",
        "\n",
        "5. Interoperability with Tools\n",
        "You can integrate it with libraries like Flask-JWT for security, Flask-SQLAlchemy for databases, and Swagger/OpenAPI for documentation.\n",
        "\n",
        "6. Ideal for RESTful Architecture\n",
        "It nudges you toward building APIs that align with REST principles—using resources, methods, and standardized HTTP status codes—which makes your API predictable and scalable.\n"
      ],
      "metadata": {
        "id": "2NRXl3XIAgTm"
      }
    },
    {
      "cell_type": "markdown",
      "source": [
        "**23. What is the role of Flask’s session object?**\n",
        "\n",
        " -The session object in Flask plays a key role in preserving user-specific data between requests. Since HTTP is a stateless protocol, this object allows you to simulate “statefulness” for things like login sessions, preferences, or items in a shopping cart.\n",
        "\n",
        "\n",
        "Role and Purpose of Flask’s session Object:\n",
        "\n",
        "1. Maintains User Data Across Requests\n",
        "It stores small bits of information—such as a username or authentication status—so they persist as the user navigates through different pages.\n",
        "\n",
        "2. Works via Secure Cookies\n",
        "The data is stored client-side in a cookie, but Flask signs it to prevent tampering. That means users can’t just change it and impersonate someone else.\n",
        "\n",
        "3. Ideal for Lightweight Personalization\n",
        "Use it to track things like logged-in status, user roles, or form selections without needing a full database lookup every time.\n",
        "\n",
        "4. Easy to Use in Templates and Views\n",
        "The session object behaves like a Python dictionary. You can set, update, or delete values just like regular key-value pairs.\n",
        "\n",
        "5. Supports Customization\n",
        "You can adjust how sessions are stored (server-side vs client-side), change expiration rules, and control cookie security settings to match your application needs.\n"
      ],
      "metadata": {
        "id": "u_6AyxaKAyKu"
      }
    },
    {
      "cell_type": "markdown",
      "source": [
        "# **PRACTICAL QUESTIONS**"
      ],
      "metadata": {
        "id": "nt--bzCiBGF2"
      }
    },
    {
      "cell_type": "code",
      "source": [
        "#1. How do you create a basic Flask application.\n",
        "\n",
        "from flask import Flask\n",
        "\n",
        "app = Flask(__name__)\n",
        "\n",
        "@app.route('/')\n",
        "def home():\n",
        "    return 'Hello, Monika!'\n",
        "\n",
        "if __name__ == '__main__':\n",
        "    app.run(debug=True)"
      ],
      "metadata": {
        "colab": {
          "base_uri": "https://localhost:8080/"
        },
        "id": "spscIex88hh6",
        "outputId": "545c3015-0e37-45ac-c2b2-be2b5e820a62"
      },
      "execution_count": 1,
      "outputs": [
        {
          "output_type": "stream",
          "name": "stdout",
          "text": [
            " * Serving Flask app '__main__'\n",
            " * Debug mode: on\n"
          ]
        },
        {
          "output_type": "stream",
          "name": "stderr",
          "text": [
            "INFO:werkzeug:\u001b[31m\u001b[1mWARNING: This is a development server. Do not use it in a production deployment. Use a production WSGI server instead.\u001b[0m\n",
            " * Running on http://127.0.0.1:5000\n",
            "INFO:werkzeug:\u001b[33mPress CTRL+C to quit\u001b[0m\n",
            "INFO:werkzeug: * Restarting with stat\n"
          ]
        }
      ]
    },
    {
      "cell_type": "code",
      "source": [
        "#2. How do you serve static files like images or CSS in Flask.\n",
        "\n",
        "from flask import Flask, render_template\n",
        "\n",
        "app = Flask(__name__)\n",
        "\n",
        "@app.route('/')\n",
        "def home():\n",
        "    return render_template('index.html')\n",
        "\n",
        "if __name__ == '__main__':\n",
        "    app.run(debug=True)"
      ],
      "metadata": {
        "colab": {
          "base_uri": "https://localhost:8080/"
        },
        "id": "lTMGhw05B8aH",
        "outputId": "fcb2fb56-6087-46e7-b119-f484f59e4e59"
      },
      "execution_count": 1,
      "outputs": [
        {
          "output_type": "stream",
          "name": "stdout",
          "text": [
            " * Serving Flask app '__main__'\n",
            " * Debug mode: on\n"
          ]
        },
        {
          "output_type": "stream",
          "name": "stderr",
          "text": [
            "INFO:werkzeug:\u001b[31m\u001b[1mWARNING: This is a development server. Do not use it in a production deployment. Use a production WSGI server instead.\u001b[0m\n",
            " * Running on http://127.0.0.1:5000\n",
            "INFO:werkzeug:\u001b[33mPress CTRL+C to quit\u001b[0m\n",
            "INFO:werkzeug: * Restarting with stat\n"
          ]
        }
      ]
    },
    {
      "cell_type": "code",
      "source": [
        "#3.  How do you define different routes with different HTTP methods in Flask.\n",
        "\n",
        "from flask import Flask, request\n",
        "\n",
        "app = Flask(__name__)\n",
        "\n",
        "@app.route('/submit', methods=['GET', 'POST'])\n",
        "def handle_submit():\n",
        "    if request.method == 'GET':\n",
        "        return 'Form page'\n",
        "    elif request.method == 'POST':\n",
        "        return 'Form submitted'"
      ],
      "metadata": {
        "id": "EMV_rIZNCqdo"
      },
      "execution_count": 2,
      "outputs": []
    },
    {
      "cell_type": "code",
      "source": [
        "#4. How do you render HTML templates in Flask.\n",
        "\n",
        "from flask import Flask, render_template\n",
        "\n",
        "app = Flask(__name__)\n",
        "\n",
        "@app.route('/')\n",
        "def home():\n",
        "    return render_template('index.html')\n",
        "\n",
        "if __name__ == '__main__':\n",
        "    app.run(debug=True)"
      ],
      "metadata": {
        "colab": {
          "base_uri": "https://localhost:8080/"
        },
        "id": "bjosYRI7DVLg",
        "outputId": "10e23c4d-1854-46e6-9056-b3e436684028"
      },
      "execution_count": 5,
      "outputs": [
        {
          "output_type": "stream",
          "name": "stdout",
          "text": [
            " * Serving Flask app '__main__'\n",
            " * Debug mode: on\n"
          ]
        },
        {
          "output_type": "stream",
          "name": "stderr",
          "text": [
            "INFO:werkzeug:\u001b[31m\u001b[1mWARNING: This is a development server. Do not use it in a production deployment. Use a production WSGI server instead.\u001b[0m\n",
            " * Running on http://127.0.0.1:5000\n",
            "INFO:werkzeug:\u001b[33mPress CTRL+C to quit\u001b[0m\n",
            "INFO:werkzeug: * Restarting with stat\n"
          ]
        }
      ]
    },
    {
      "cell_type": "code",
      "source": [
        "#5. How can you generate URLs for routes in Flask using url_for.\n",
        "\n",
        "from flask import Flask, url_for\n",
        "\n",
        "app = Flask(__name__)\n",
        "\n",
        "@app.route('/')\n",
        "def home():\n",
        "    return 'Hello, World!'\n",
        "\n",
        "@app.route('/about')\n",
        "def about():\n",
        "    return 'About page'"
      ],
      "metadata": {
        "id": "OmdLM6NTDu_o"
      },
      "execution_count": 7,
      "outputs": []
    },
    {
      "cell_type": "code",
      "source": [
        "#6. How do you handle forms in Flask.\n",
        "\n",
        "from flask import Flask, render_template, request\n",
        "\n",
        "app = Flask(__name__)\n",
        "\n",
        "@app.route('/')\n",
        "def home():\n",
        "    return render_template('index.html')"
      ],
      "metadata": {
        "id": "csB_agMeD6Nn"
      },
      "execution_count": 8,
      "outputs": []
    },
    {
      "cell_type": "code",
      "source": [
        "#7. How can you validate form data in Flask.\n",
        "\n",
        "from flask import Flask, render_template, request\n",
        "\n",
        "app = Flask(__name__)\n",
        "\n",
        "@app.route('/')\n",
        "def home():\n",
        "    return render_template('index.html')"
      ],
      "metadata": {
        "id": "cE8HgGqIEBxi"
      },
      "execution_count": 10,
      "outputs": []
    },
    {
      "cell_type": "code",
      "source": [
        "#8. How do you manage sessions in Flask.\n",
        "\n",
        "from flask import Flask, session, redirect, url_for, request, render_template_string\n",
        "\n",
        "app = Flask(__name__)\n",
        "app.secret_key = 'your_secret_key_here'  # Needed to use sessions\n",
        "\n",
        "@app.route('/')\n",
        "def index():\n",
        "    if 'username' in session:\n",
        "        return f\"Welcome back, {session['username']}!\"\n",
        "    return \"You are not logged in.\"\n",
        "\n",
        "@app.route('/login', methods=['GET', 'POST'])\n",
        "def login():\n",
        "    if request.method == 'POST':\n",
        "        session['username'] = request.form['username']\n",
        "        return redirect(url_for('index'))\n",
        "    return render_template_string('''\n",
        "        <form method=\"post\">\n",
        "            <input type=\"text\" name=\"username\" placeholder=\"Enter username\" required>\n",
        "            <input type=\"submit\" value=\"Login\">\n",
        "        </form>\n",
        "    ''')\n",
        "\n",
        "@app.route('/logout')\n",
        "def logout():\n",
        "    session.pop('username', None)\n",
        "    return redirect(url_for('index'))\n",
        "\n",
        "if __name__ == '__main__':\n",
        "    app.run(debug=True)"
      ],
      "metadata": {
        "colab": {
          "base_uri": "https://localhost:8080/"
        },
        "id": "7SiUSLrKEIRz",
        "outputId": "d242d7cb-94fd-4723-f2a0-e22d4a752901"
      },
      "execution_count": 12,
      "outputs": [
        {
          "output_type": "stream",
          "name": "stdout",
          "text": [
            " * Serving Flask app '__main__'\n",
            " * Debug mode: on\n"
          ]
        },
        {
          "output_type": "stream",
          "name": "stderr",
          "text": [
            "INFO:werkzeug:\u001b[31m\u001b[1mWARNING: This is a development server. Do not use it in a production deployment. Use a production WSGI server instead.\u001b[0m\n",
            " * Running on http://127.0.0.1:5000\n",
            "INFO:werkzeug:\u001b[33mPress CTRL+C to quit\u001b[0m\n",
            "INFO:werkzeug: * Restarting with stat\n"
          ]
        }
      ]
    },
    {
      "cell_type": "code",
      "source": [
        "#9. How do you redirect to a different route in Flask.\n",
        "from flask import Flask, redirect, url_for\n",
        "\n",
        "app = Flask(__name__)\n",
        "\n",
        "@app.route('/')\n",
        "def home():\n",
        "    return \"Welcome to the Home Page\"\n",
        "\n",
        "@app.route('/login')\n",
        "def login():\n",
        "    # After login, redirect to the dashboard\n",
        "    return redirect(url_for('dashboard'))\n",
        "\n",
        "@app.route('/dashboard')\n",
        "def dashboard():\n",
        "    return \"Hello, you are now on the Dashboard\"\n",
        "\n",
        "if __name__ == '__main__':\n",
        "    app.run(debug=True)"
      ],
      "metadata": {
        "colab": {
          "base_uri": "https://localhost:8080/"
        },
        "id": "rfulFZHMFfQ0",
        "outputId": "d4a76a95-8281-4170-8fdb-fcca0b219899"
      },
      "execution_count": 3,
      "outputs": [
        {
          "output_type": "stream",
          "name": "stdout",
          "text": [
            " * Serving Flask app '__main__'\n",
            " * Debug mode: on\n"
          ]
        },
        {
          "output_type": "stream",
          "name": "stderr",
          "text": [
            "INFO:werkzeug:\u001b[31m\u001b[1mWARNING: This is a development server. Do not use it in a production deployment. Use a production WSGI server instead.\u001b[0m\n",
            " * Running on http://127.0.0.1:5000\n",
            "INFO:werkzeug:\u001b[33mPress CTRL+C to quit\u001b[0m\n",
            "INFO:werkzeug: * Restarting with stat\n"
          ]
        }
      ]
    },
    {
      "cell_type": "code",
      "source": [
        "#10. How do you handle errors in Flask (e.g., 404).\n",
        "\n",
        "from flask import Flask\n",
        "\n",
        "app = Flask(__name__)\n",
        "\n",
        "@app.route('/')\n",
        "def home():\n",
        "    return \"Welcome to the homepage!\"\n",
        "\n",
        "# Custom 404 handler\n",
        "@app.errorhandler(404)\n",
        "def page_not_found(e):\n",
        "    return \"<h1>404 - Page Not Found</h1><p>Sorry, the page you're looking for doesn't exist.</p>\", 404\n",
        "\n",
        "if __name__ == '__main__':\n",
        "    app.run(debug=True)"
      ],
      "metadata": {
        "colab": {
          "base_uri": "https://localhost:8080/"
        },
        "id": "i0qaWz6vF32H",
        "outputId": "b8035322-8e98-4f99-fe88-ac8afedd456e"
      },
      "execution_count": 1,
      "outputs": [
        {
          "output_type": "stream",
          "name": "stdout",
          "text": [
            " * Serving Flask app '__main__'\n",
            " * Debug mode: on\n"
          ]
        },
        {
          "output_type": "stream",
          "name": "stderr",
          "text": [
            "INFO:werkzeug:\u001b[31m\u001b[1mWARNING: This is a development server. Do not use it in a production deployment. Use a production WSGI server instead.\u001b[0m\n",
            " * Running on http://127.0.0.1:5000\n",
            "INFO:werkzeug:\u001b[33mPress CTRL+C to quit\u001b[0m\n",
            "INFO:werkzeug: * Restarting with stat\n"
          ]
        }
      ]
    },
    {
      "cell_type": "code",
      "source": [
        "#11. How do you structure a Flask app using Blueprints.\n",
        "\n",
        "\n",
        "from flask import Blueprint, render_template\n",
        "\n",
        "auth_bp = Blueprint('auth', __name__, url_prefix='/auth')\n",
        "\n",
        "@auth_bp.route('/login')\n",
        "def login():\n",
        "    return \"Login Page\""
      ],
      "metadata": {
        "id": "uzEjmdOrGScf"
      },
      "execution_count": 1,
      "outputs": []
    },
    {
      "cell_type": "code",
      "source": [
        "from .routes import auth_bp"
      ],
      "metadata": {
        "colab": {
          "base_uri": "https://localhost:8080/",
          "height": 314
        },
        "collapsed": true,
        "id": "Arp9vmcaGnxZ",
        "outputId": "a820af08-50d3-4aca-b1e0-985ed6442188"
      },
      "execution_count": 2,
      "outputs": [
        {
          "output_type": "error",
          "ename": "ImportError",
          "evalue": "attempted relative import with no known parent package",
          "traceback": [
            "\u001b[0;31m---------------------------------------------------------------------------\u001b[0m",
            "\u001b[0;31mImportError\u001b[0m                               Traceback (most recent call last)",
            "\u001b[0;32m/tmp/ipython-input-2-51799380.py\u001b[0m in \u001b[0;36m<cell line: 0>\u001b[0;34m()\u001b[0m\n\u001b[0;32m----> 1\u001b[0;31m \u001b[0;32mfrom\u001b[0m \u001b[0;34m.\u001b[0m\u001b[0mroutes\u001b[0m \u001b[0;32mimport\u001b[0m \u001b[0mauth_bp\u001b[0m\u001b[0;34m\u001b[0m\u001b[0;34m\u001b[0m\u001b[0m\n\u001b[0m",
            "\u001b[0;31mImportError\u001b[0m: attempted relative import with no known parent package",
            "",
            "\u001b[0;31m---------------------------------------------------------------------------\u001b[0;32m\nNOTE: If your import is failing due to a missing package, you can\nmanually install dependencies using either !pip or !apt.\n\nTo view examples of installing some common dependencies, click the\n\"Open Examples\" button below.\n\u001b[0;31m---------------------------------------------------------------------------\u001b[0m\n"
          ],
          "errorDetails": {
            "actions": [
              {
                "action": "open_url",
                "actionText": "Open Examples",
                "url": "/notebooks/snippets/importing_libraries.ipynb"
              }
            ]
          }
        }
      ]
    },
    {
      "cell_type": "code",
      "source": [
        "from flask import Flask\n",
        "from auth.routes import auth_bp\n",
        "from dashboard.routes import dashboard_bp\n",
        "\n",
        "app = Flask(__name__)\n",
        "app.register_blueprint(auth_bp)\n",
        "app.register_blueprint(dashboard_bp)\n",
        "\n",
        "@app.route('/')\n",
        "def home():\n",
        "    return \"Welcome to the main app!\"\n",
        "\n",
        "if __name__ == '__main__':\n",
        "    app.run(debug=True)"
      ],
      "metadata": {
        "collapsed": true,
        "colab": {
          "base_uri": "https://localhost:8080/",
          "height": 383
        },
        "id": "hQdLK57PGrmQ",
        "outputId": "6ac7e6f0-0806-4133-abee-538649354eb1"
      },
      "execution_count": 3,
      "outputs": [
        {
          "output_type": "error",
          "ename": "ModuleNotFoundError",
          "evalue": "No module named 'auth'",
          "traceback": [
            "\u001b[0;31m---------------------------------------------------------------------------\u001b[0m",
            "\u001b[0;31mModuleNotFoundError\u001b[0m                       Traceback (most recent call last)",
            "\u001b[0;32m/tmp/ipython-input-3-246686951.py\u001b[0m in \u001b[0;36m<cell line: 0>\u001b[0;34m()\u001b[0m\n\u001b[1;32m      1\u001b[0m \u001b[0;32mfrom\u001b[0m \u001b[0mflask\u001b[0m \u001b[0;32mimport\u001b[0m \u001b[0mFlask\u001b[0m\u001b[0;34m\u001b[0m\u001b[0;34m\u001b[0m\u001b[0m\n\u001b[0;32m----> 2\u001b[0;31m \u001b[0;32mfrom\u001b[0m \u001b[0mauth\u001b[0m\u001b[0;34m.\u001b[0m\u001b[0mroutes\u001b[0m \u001b[0;32mimport\u001b[0m \u001b[0mauth_bp\u001b[0m\u001b[0;34m\u001b[0m\u001b[0;34m\u001b[0m\u001b[0m\n\u001b[0m\u001b[1;32m      3\u001b[0m \u001b[0;32mfrom\u001b[0m \u001b[0mdashboard\u001b[0m\u001b[0;34m.\u001b[0m\u001b[0mroutes\u001b[0m \u001b[0;32mimport\u001b[0m \u001b[0mdashboard_bp\u001b[0m\u001b[0;34m\u001b[0m\u001b[0;34m\u001b[0m\u001b[0m\n\u001b[1;32m      4\u001b[0m \u001b[0;34m\u001b[0m\u001b[0m\n\u001b[1;32m      5\u001b[0m \u001b[0mapp\u001b[0m \u001b[0;34m=\u001b[0m \u001b[0mFlask\u001b[0m\u001b[0;34m(\u001b[0m\u001b[0m__name__\u001b[0m\u001b[0;34m)\u001b[0m\u001b[0;34m\u001b[0m\u001b[0;34m\u001b[0m\u001b[0m\n",
            "\u001b[0;31mModuleNotFoundError\u001b[0m: No module named 'auth'",
            "",
            "\u001b[0;31m---------------------------------------------------------------------------\u001b[0;32m\nNOTE: If your import is failing due to a missing package, you can\nmanually install dependencies using either !pip or !apt.\n\nTo view examples of installing some common dependencies, click the\n\"Open Examples\" button below.\n\u001b[0;31m---------------------------------------------------------------------------\u001b[0m\n"
          ],
          "errorDetails": {
            "actions": [
              {
                "action": "open_url",
                "actionText": "Open Examples",
                "url": "/notebooks/snippets/importing_libraries.ipynb"
              }
            ]
          }
        }
      ]
    },
    {
      "cell_type": "code",
      "source": [
        "#12. How do you define a custom Jinja filter in Flask.\n",
        "\n",
        "from flask import Flask, render_template_string\n",
        "\n",
        "app = Flask(__name__)\n",
        "\n",
        "# Custom filter definition\n",
        "def reverse_string(s):\n",
        "    return s[::-1]\n",
        "\n",
        "# Registering filter\n",
        "app.jinja_env.filters['reverse'] = reverse_string\n",
        "\n",
        "@app.route('/')\n",
        "def home():\n",
        "    template = \"{{ 'Flask is fun!'|reverse }}\"\n",
        "    return render_template_string(template)\n",
        "\n",
        "if __name__ == '__main__':\n",
        "    app.run(debug=True)"
      ],
      "metadata": {
        "colab": {
          "base_uri": "https://localhost:8080/"
        },
        "id": "--x97MCOGv1P",
        "outputId": "ee452f76-6502-46e9-8864-c47115fd17de"
      },
      "execution_count": 4,
      "outputs": [
        {
          "output_type": "stream",
          "name": "stdout",
          "text": [
            " * Serving Flask app '__main__'\n",
            " * Debug mode: on\n"
          ]
        },
        {
          "output_type": "stream",
          "name": "stderr",
          "text": [
            "INFO:werkzeug:\u001b[31m\u001b[1mWARNING: This is a development server. Do not use it in a production deployment. Use a production WSGI server instead.\u001b[0m\n",
            " * Running on http://127.0.0.1:5000\n",
            "INFO:werkzeug:\u001b[33mPress CTRL+C to quit\u001b[0m\n",
            "INFO:werkzeug: * Restarting with stat\n"
          ]
        }
      ]
    },
    {
      "cell_type": "code",
      "source": [
        "#13. How can you redirect with query parameters in Flask.\n",
        "\n",
        "from flask import Flask, redirect, url_for, request\n",
        "\n",
        "app = Flask(__name__)\n",
        "\n",
        "@app.route('/')\n",
        "def home():\n",
        "    return \"Welcome to the Homepage!\"\n",
        "\n",
        "@app.route('/redirect-me')\n",
        "def redirect_me():\n",
        "    return redirect(url_for('destination', name='Monika', age=25))\n",
        "\n",
        "@app.route('/destination')\n",
        "def destination():\n",
        "    name = request.args.get('name')\n",
        "    age = request.args.get('age')\n",
        "    return f\"Hi {name}, you are {age} years old!\"\n",
        "\n",
        "if __name__ == '__main__':\n",
        "    app.run(debug=True)"
      ],
      "metadata": {
        "colab": {
          "base_uri": "https://localhost:8080/"
        },
        "id": "ptEOcXDOHJuw",
        "outputId": "cf3e0443-bf2c-4bb9-e147-ef614d620c29"
      },
      "execution_count": 1,
      "outputs": [
        {
          "output_type": "stream",
          "name": "stdout",
          "text": [
            " * Serving Flask app '__main__'\n",
            " * Debug mode: on\n"
          ]
        },
        {
          "output_type": "stream",
          "name": "stderr",
          "text": [
            "INFO:werkzeug:\u001b[31m\u001b[1mWARNING: This is a development server. Do not use it in a production deployment. Use a production WSGI server instead.\u001b[0m\n",
            " * Running on http://127.0.0.1:5000\n",
            "INFO:werkzeug:\u001b[33mPress CTRL+C to quit\u001b[0m\n",
            "INFO:werkzeug: * Restarting with stat\n"
          ]
        }
      ]
    },
    {
      "cell_type": "code",
      "source": [
        "#14. How do you return JSON responses in Flask.\n",
        "\n",
        "from flask import Flask, jsonify\n",
        "\n",
        "app = Flask(__name__)\n",
        "\n",
        "@app.route('/api/data')\n",
        "def get_data():\n",
        "    response = {\n",
        "        \"name\": \"Monika\",\n",
        "        \"language\": \"Python\",\n",
        "        \"framework\": \"Flask\"\n",
        "    }\n",
        "    return jsonify(response)\n",
        "\n",
        "if __name__ == '__main__':\n",
        "    app.run(debug=True)"
      ],
      "metadata": {
        "colab": {
          "base_uri": "https://localhost:8080/"
        },
        "id": "cetaZ0IEHayi",
        "outputId": "a943013e-6258-44bf-a408-e6395cbb3d47"
      },
      "execution_count": 1,
      "outputs": [
        {
          "output_type": "stream",
          "name": "stdout",
          "text": [
            " * Serving Flask app '__main__'\n",
            " * Debug mode: on\n"
          ]
        },
        {
          "output_type": "stream",
          "name": "stderr",
          "text": [
            "INFO:werkzeug:\u001b[31m\u001b[1mWARNING: This is a development server. Do not use it in a production deployment. Use a production WSGI server instead.\u001b[0m\n",
            " * Running on http://127.0.0.1:5000\n",
            "INFO:werkzeug:\u001b[33mPress CTRL+C to quit\u001b[0m\n",
            "INFO:werkzeug: * Restarting with stat\n"
          ]
        }
      ]
    },
    {
      "cell_type": "code",
      "source": [
        "#15. How do you capture URL parameters in Flask.\n",
        "\n",
        "from flask import Flask, request\n",
        "\n",
        "app = Flask(__name__)\n",
        "\n",
        "@app.route('/user/<username>')\n",
        "def show_user_profile(username):\n",
        "    return f'User {username}'\n",
        "\n",
        "if __name__ == '__main__':\n",
        "    app.run(debug=True)"
      ],
      "metadata": {
        "colab": {
          "base_uri": "https://localhost:8080/"
        },
        "id": "h1U8CJOvIYMP",
        "outputId": "6df412ce-483a-4a6b-b168-854a9927d9d8"
      },
      "execution_count": 1,
      "outputs": [
        {
          "output_type": "stream",
          "name": "stdout",
          "text": [
            " * Serving Flask app '__main__'\n",
            " * Debug mode: on\n"
          ]
        },
        {
          "output_type": "stream",
          "name": "stderr",
          "text": [
            "INFO:werkzeug:\u001b[31m\u001b[1mWARNING: This is a development server. Do not use it in a production deployment. Use a production WSGI server instead.\u001b[0m\n",
            " * Running on http://127.0.0.1:5000\n",
            "INFO:werkzeug:\u001b[33mPress CTRL+C to quit\u001b[0m\n",
            "INFO:werkzeug: * Restarting with stat\n"
          ]
        }
      ]
    }
  ]
}